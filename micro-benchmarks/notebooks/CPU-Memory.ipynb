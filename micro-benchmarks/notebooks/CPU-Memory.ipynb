{
 "cells": [
  {
   "cell_type": "code",
   "execution_count": 2,
   "metadata": {},
   "outputs": [],
   "source": [
    "import numpy as np"
   ]
  },
  {
   "cell_type": "code",
   "execution_count": 3,
   "metadata": {},
   "outputs": [],
   "source": [
    "# Generate random 3D matrix \n",
    "def gen3dMatrix(x, y, z, lower, upper):\n",
    "    matrix = np.random.randint(lower, upper, size=(x, y, z))\n",
    "    return matrix"
   ]
  },
  {
   "cell_type": "code",
   "execution_count": 6,
   "metadata": {},
   "outputs": [],
   "source": [
    "# 3D matrix multiplication\n",
    "def gen3dMatmul(m1, m2):\n",
    "    res = \n",
    "    for i in range(len(m1)):\n",
    "        for j in range(len()):\n",
    "            for k in range(len()):\n",
    "                \n",
    "    return np.matmul(m1, m2)"
   ]
  },
  {
   "cell_type": "code",
   "execution_count": 8,
   "metadata": {},
   "outputs": [
    {
     "data": {
      "text/plain": [
       "array([[[108, 108, 108],\n",
       "        [ 74,  76,  78],\n",
       "        [ 83,  84,  85]],\n",
       "\n",
       "       [[109,  55,  84],\n",
       "        [ 57,  32,  70],\n",
       "        [ 36,  48,  72]],\n",
       "\n",
       "       [[ 18,  26,  16],\n",
       "        [ 28,  42,  63],\n",
       "        [  7,  11,  29]]])"
      ]
     },
     "execution_count": 8,
     "metadata": {},
     "output_type": "execute_result"
    }
   ],
   "source": [
    "matrix1 = gen3dMatrix(3, 3, 3, 0, 10);\n",
    "matrix2 = gen3dMatrix(3, 3, 3, 0, 10);\n",
    "gen3dMatmul(matrix1, matrix2)"
   ]
  },
  {
   "cell_type": "code",
   "execution_count": 1,
   "metadata": {},
   "outputs": [],
   "source": [
    "a = [48, 100]"
   ]
  },
  {
   "cell_type": "code",
   "execution_count": 2,
   "metadata": {},
   "outputs": [],
   "source": [
    "import matplotlib as mpl"
   ]
  },
  {
   "cell_type": "code",
   "execution_count": null,
   "metadata": {},
   "outputs": [],
   "source": []
  }
 ],
 "metadata": {
  "kernelspec": {
   "display_name": "Python 3",
   "language": "python",
   "name": "python3"
  },
  "language_info": {
   "codemirror_mode": {
    "name": "ipython",
    "version": 3
   },
   "file_extension": ".py",
   "mimetype": "text/x-python",
   "name": "python",
   "nbconvert_exporter": "python",
   "pygments_lexer": "ipython3",
   "version": "3.6.8"
  }
 },
 "nbformat": 4,
 "nbformat_minor": 2
}
